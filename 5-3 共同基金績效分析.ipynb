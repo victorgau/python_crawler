{
 "cells": [
  {
   "cell_type": "markdown",
   "metadata": {},
   "source": [
    "<a href=\"https://colab.research.google.com/github/victorgau/python_crawler/blob/master/5-3%20%E5%85%B1%E5%90%8C%E5%9F%BA%E9%87%91%E7%B8%BE%E6%95%88%E5%88%86%E6%9E%90.ipynb\" target=\"_parent\"><img src=\"https://colab.research.google.com/assets/colab-badge.svg\" alt=\"Open In Colab\"/></a>"
   ]
  },
  {
   "cell_type": "markdown",
   "metadata": {},
   "source": [
    "# 共同基金績效分析"
   ]
  },
  {
   "cell_type": "markdown",
   "metadata": {},
   "source": [
    "## 相關連結\n",
    "\n",
    "* [中華民股證券投資信託暨顧問商業同業公會](https://www.sitca.org.tw/)\n",
    "* [基金類別績效（ 晨星 ）](https://www.sitca.org.tw/ROC/Industry/IN2421.aspx)\n",
    "* [基金績效評比（ 晨星 ）](https://www.sitca.org.tw/ROC/Industry/IN2422.aspx)\n",
    "* [https://github.com/dong945/Python-Crawler](https://github.com/dong945/Python-Crawler)"
   ]
  },
  {
   "cell_type": "markdown",
   "metadata": {},
   "source": [
    "---"
   ]
  },
  {
   "cell_type": "code",
   "execution_count": null,
   "metadata": {},
   "outputs": [],
   "source": [
    "import pandas as pd"
   ]
  },
  {
   "cell_type": "code",
   "execution_count": null,
   "metadata": {},
   "outputs": [],
   "source": [
    "FundUrl = 'https://www.sitca.org.tw/ROC/Industry/IN2422.aspx?txtYEAR=2019&txtMONTH=09&txtGROUPID=EUCA000500'\n",
    "dfs = pd.read_html(FundUrl, encoding='utf8',skiprows=2)\n",
    "# 刪掉最左邊的 checkbox 那一欄\n",
    "df = dfs[3].drop(0, axis=1)\n",
    "df.columns = ['基金名稱','基金英文名稱','1個月','3個月','6個月','1年','2年','3年','5年','今年以來','十年','年化標準差(三年)','Sharpe(三年)']"
   ]
  },
  {
   "cell_type": "markdown",
   "metadata": {},
   "source": [
    "## 四四三三策略\n",
    "\n",
    "台大教授邱顯比、李存修共同研製\n",
    "\n",
    "四:1年績效在同類型基金前1/4\n",
    "\n",
    "四:2年、3年、5年和今年以來績效在同類型基金前1/4\n",
    "\n",
    "三:6個月績效排名在同類型基金前1/3\n",
    "\n",
    "三:3個月績效排名在同類型基金前1/3"
   ]
  },
  {
   "cell_type": "code",
   "execution_count": null,
   "metadata": {},
   "outputs": [],
   "source": [
    "total = len(df)"
   ]
  },
  {
   "cell_type": "code",
   "execution_count": null,
   "metadata": {},
   "outputs": [],
   "source": [
    "set1 = set(df.sort_values('1年',ascending=False).head(total//4)[\"基金名稱\"])\n",
    "set2 = set(df.sort_values('2年',ascending=False).head(total//4)[\"基金名稱\"])\n",
    "set3 = set(df.sort_values('3年',ascending=False).head(total//4)[\"基金名稱\"])\n",
    "set4 = set(df.sort_values('5年',ascending=False).head(total//4)[\"基金名稱\"])\n",
    "set5 = set(df.sort_values('今年以來',ascending=False).head(total//4)[\"基金名稱\"])\n",
    "set6 = set(df.sort_values('6個月',ascending=False).head(total//3)[\"基金名稱\"])\n",
    "set7 = set(df.sort_values('3個月',ascending=False).head(total//3)[\"基金名稱\"])"
   ]
  },
  {
   "cell_type": "code",
   "execution_count": null,
   "metadata": {},
   "outputs": [],
   "source": [
    "target = set1 & set2 & set3 & set4 & set5 & set6 & set7"
   ]
  },
  {
   "cell_type": "code",
   "execution_count": null,
   "metadata": {},
   "outputs": [],
   "source": [
    "len(target)"
   ]
  },
  {
   "cell_type": "code",
   "execution_count": null,
   "metadata": {},
   "outputs": [],
   "source": [
    "fund4433 = df[df[\"基金名稱\"].isin(target)]"
   ]
  },
  {
   "cell_type": "code",
   "execution_count": null,
   "metadata": {},
   "outputs": [],
   "source": [
    "fund4433.head()"
   ]
  },
  {
   "cell_type": "markdown",
   "metadata": {},
   "source": [
    "---"
   ]
  },
  {
   "cell_type": "markdown",
   "metadata": {},
   "source": [
    "# TODO: 策略222\n",
    "\n",
    "基金教母蕭碧燕\n",
    "\n",
    "短期(6個月)、中期(1年)、長期(3年)績效都排在前1/2\n"
   ]
  },
  {
   "cell_type": "code",
   "execution_count": null,
   "metadata": {},
   "outputs": [],
   "source": []
  }
 ],
 "metadata": {
  "kernelspec": {
   "display_name": "Python 3",
   "language": "python",
   "name": "python3"
  },
  "language_info": {
   "codemirror_mode": {
    "name": "ipython",
    "version": 3
   },
   "file_extension": ".py",
   "mimetype": "text/x-python",
   "name": "python",
   "nbconvert_exporter": "python",
   "pygments_lexer": "ipython3",
   "version": "3.7.1"
  }
 },
 "nbformat": 4,
 "nbformat_minor": 2
}
