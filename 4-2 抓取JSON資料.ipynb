{
 "cells": [
  {
   "cell_type": "markdown",
   "metadata": {},
   "source": [
    "<a href=\"https://colab.research.google.com/github/victorgau/python_crawler/blob/master/4-2%20%E6%8A%93%E5%8F%96JSON%E8%B3%87%E6%96%99.ipynb\" target=\"_parent\"><img src=\"https://colab.research.google.com/assets/colab-badge.svg\" alt=\"Open In Colab\"/></a>"
   ]
  },
  {
   "cell_type": "markdown",
   "metadata": {},
   "source": [
    "# 抓取JSON資料"
   ]
  },
  {
   "cell_type": "markdown",
   "metadata": {},
   "source": [
    "### 剖析 json 檔\n",
    "\n",
    "* 使用 requests 抓取 json 檔，可以在後面加上 .json() 直接剖析 json 檔案。\n",
    "* 如果是檔案或字串，可以使用 json 模組來剖析。"
   ]
  },
  {
   "cell_type": "markdown",
   "metadata": {},
   "source": [
    "參考資料：\n",
    "\n",
    "* [Wikipeida - JSON](https://zh.wikipedia.org/wiki/JSON)"
   ]
  },
  {
   "cell_type": "code",
   "execution_count": null,
   "metadata": {},
   "outputs": [],
   "source": [
    "s = \"\"\"{\n",
    "     \"firstName\": \"John\",\n",
    "     \"lastName\": \"Smith\",\n",
    "     \"sex\": \"male\",\n",
    "     \"age\": 25,\n",
    "     \"address\": \n",
    "     {\n",
    "         \"streetAddress\": \"21 2nd Street\",\n",
    "         \"city\": \"New York\",\n",
    "         \"state\": \"NY\",\n",
    "         \"postalCode\": \"10021\"\n",
    "     },\n",
    "     \"phoneNumber\": \n",
    "     [\n",
    "         {\n",
    "           \"type\": \"home\",\n",
    "           \"number\": \"212 555-1234\"\n",
    "         },\n",
    "         {\n",
    "           \"type\": \"fax\",\n",
    "           \"number\": \"646 555-4567\"\n",
    "         }\n",
    "     ]\n",
    " }\"\"\""
   ]
  },
  {
   "cell_type": "code",
   "execution_count": null,
   "metadata": {},
   "outputs": [],
   "source": [
    "import json"
   ]
  },
  {
   "cell_type": "code",
   "execution_count": null,
   "metadata": {},
   "outputs": [],
   "source": [
    "data = json.loads(s)"
   ]
  },
  {
   "cell_type": "code",
   "execution_count": null,
   "metadata": {},
   "outputs": [],
   "source": [
    "type(data)"
   ]
  },
  {
   "cell_type": "markdown",
   "metadata": {},
   "source": [
    "---"
   ]
  },
  {
   "cell_type": "markdown",
   "metadata": {},
   "source": [
    "## 從檔案中載入 JSON 資料"
   ]
  },
  {
   "cell_type": "code",
   "execution_count": null,
   "metadata": {},
   "outputs": [],
   "source": [
    "with open(\"test.json\") as f:\n",
    "    data = json.load(f)"
   ]
  },
  {
   "cell_type": "code",
   "execution_count": null,
   "metadata": {},
   "outputs": [],
   "source": [
    "type(data)"
   ]
  },
  {
   "cell_type": "code",
   "execution_count": null,
   "metadata": {},
   "outputs": [],
   "source": [
    "data['firstName']"
   ]
  },
  {
   "cell_type": "markdown",
   "metadata": {},
   "source": [
    "---"
   ]
  },
  {
   "cell_type": "markdown",
   "metadata": {},
   "source": [
    "## 抓取開放資料上的 JSON 格式資料\n",
    "\n",
    "高雄市圖書館-活動資訊：\n",
    "\n",
    "http://opendata.khcc.gov.tw/public/OD_ksml_news.ashx"
   ]
  },
  {
   "cell_type": "code",
   "execution_count": null,
   "metadata": {},
   "outputs": [],
   "source": [
    "import requests"
   ]
  },
  {
   "cell_type": "code",
   "execution_count": null,
   "metadata": {},
   "outputs": [],
   "source": [
    "url = \"http://opendata.khcc.gov.tw/public/OD_ksml_news.ashx\""
   ]
  },
  {
   "cell_type": "code",
   "execution_count": null,
   "metadata": {},
   "outputs": [],
   "source": [
    "data = requests.get(url).json()"
   ]
  },
  {
   "cell_type": "code",
   "execution_count": null,
   "metadata": {},
   "outputs": [],
   "source": [
    "data[0]['Title']"
   ]
  }
 ],
 "metadata": {
  "kernelspec": {
   "display_name": "Python 3",
   "language": "python",
   "name": "python3"
  },
  "language_info": {
   "codemirror_mode": {
    "name": "ipython",
    "version": 3
   },
   "file_extension": ".py",
   "mimetype": "text/x-python",
   "name": "python",
   "nbconvert_exporter": "python",
   "pygments_lexer": "ipython3",
   "version": "3.7.1"
  }
 },
 "nbformat": 4,
 "nbformat_minor": 2
}
