{
 "cells": [
  {
   "cell_type": "markdown",
   "metadata": {},
   "source": [
    "<a href=\"https://colab.research.google.com/github/victorgau/python_crawler/blob/master/6-2%20%E6%8A%93%E5%8F%96%E8%B2%A1%E5%8B%99%E6%AF%94%E7%8E%87.ipynb\" target=\"_parent\"><img src=\"https://colab.research.google.com/assets/colab-badge.svg\" alt=\"Open In Colab\"/></a>"
   ]
  },
  {
   "cell_type": "markdown",
   "metadata": {},
   "source": [
    "# 抓取財務比率"
   ]
  },
  {
   "cell_type": "markdown",
   "metadata": {},
   "source": [
    "## 相關連結\n",
    "\n",
    "上市公司基本資料\n",
    "* [https://data.gov.tw/dataset/18419](https://data.gov.tw/dataset/18419)\n",
    "\n",
    "公開資訊觀測站\n",
    "* [http://mops.twse.com.tw/mops/web/index](http://mops.twse.com.tw/mops/web/index)\n",
    "\n",
    "個股速覽 (台積電)\n",
    "* [http://jsjustweb.jihsun.com.tw/z/zc/zcx/zcx_2330.djhtm](http://jsjustweb.jihsun.com.tw/z/zc/zcx/zcx_2330.djhtm)\n",
    "\n",
    "台積電綜合損益表年表 (台積電)\n",
    "* [http://jsjustweb.jihsun.com.tw/z/zc/zcq/zcqa/zcqa_2330.djhtm](http://jsjustweb.jihsun.com.tw/z/zc/zcq/zcqa/zcqa_2330.djhtm)\n",
    "\n",
    "台積電資產負債表年表 (台積電)\n",
    "* [http://jsjustweb.jihsun.com.tw/z/zc/zcp/zcpb/zcpb_2330.djhtm](http://jsjustweb.jihsun.com.tw/z/zc/zcp/zcpb/zcpb_2330.djhtm)"
   ]
  },
  {
   "cell_type": "markdown",
   "metadata": {},
   "source": [
    "---"
   ]
  },
  {
   "cell_type": "markdown",
   "metadata": {},
   "source": [
    "## 抓取財務比率"
   ]
  },
  {
   "cell_type": "code",
   "execution_count": null,
   "metadata": {},
   "outputs": [],
   "source": [
    "import pandas as pd"
   ]
  },
  {
   "cell_type": "code",
   "execution_count": null,
   "metadata": {},
   "outputs": [],
   "source": [
    "url = \"http://jsjustweb.jihsun.com.tw/z/zc/zcr/zcr0.djhtm?b=Y&a=2330\""
   ]
  },
  {
   "cell_type": "code",
   "execution_count": null,
   "metadata": {},
   "outputs": [],
   "source": [
    "dfs = pd.read_html(url, index_col=0)"
   ]
  },
  {
   "cell_type": "code",
   "execution_count": null,
   "metadata": {},
   "outputs": [],
   "source": [
    "dfs[2].loc['期別'].iloc[0].astype(int)"
   ]
  },
  {
   "cell_type": "code",
   "execution_count": null,
   "metadata": {},
   "outputs": [],
   "source": [
    "dfs[2].head()"
   ]
  },
  {
   "cell_type": "code",
   "execution_count": null,
   "metadata": {},
   "outputs": [],
   "source": [
    "df = dfs[2]"
   ]
  },
  {
   "cell_type": "code",
   "execution_count": null,
   "metadata": {},
   "outputs": [],
   "source": [
    "df[df[0]=='期別'].iloc[0]"
   ]
  },
  {
   "cell_type": "code",
   "execution_count": null,
   "metadata": {},
   "outputs": [],
   "source": [
    "df[df[0]==\"ROE(B)─常續利益\"].iloc[0]"
   ]
  },
  {
   "cell_type": "code",
   "execution_count": null,
   "metadata": {},
   "outputs": [],
   "source": [
    "years = df[df[0]=='期別'].iloc[0][1:].astype(int)"
   ]
  },
  {
   "cell_type": "code",
   "execution_count": null,
   "metadata": {},
   "outputs": [],
   "source": [
    "roe = df[df[0]==\"ROE(B)─常續利益\"].iloc[0][1:].astype(float)"
   ]
  },
  {
   "cell_type": "code",
   "execution_count": null,
   "metadata": {},
   "outputs": [],
   "source": [
    "import numpy as np"
   ]
  },
  {
   "cell_type": "code",
   "execution_count": null,
   "metadata": {},
   "outputs": [],
   "source": [
    "sum(np.array(roe)[:5] > 15)"
   ]
  }
 ],
 "metadata": {
  "kernelspec": {
   "display_name": "Python 3",
   "language": "python",
   "name": "python3"
  },
  "language_info": {
   "codemirror_mode": {
    "name": "ipython",
    "version": 3
   },
   "file_extension": ".py",
   "mimetype": "text/x-python",
   "name": "python",
   "nbconvert_exporter": "python",
   "pygments_lexer": "ipython3",
   "version": "3.7.1"
  }
 },
 "nbformat": 4,
 "nbformat_minor": 2
}
