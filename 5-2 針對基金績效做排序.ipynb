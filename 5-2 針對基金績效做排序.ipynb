{
 "cells": [
  {
   "cell_type": "markdown",
   "metadata": {},
   "source": [
    "<a href=\"https://colab.research.google.com/github/victorgau/python_crawler/blob/master/5-2%20%E9%87%9D%E5%B0%8D%E5%9F%BA%E9%87%91%E7%B8%BE%E6%95%88%E5%81%9A%E6%8E%92%E5%BA%8F.ipynb\" target=\"_parent\"><img src=\"https://colab.research.google.com/assets/colab-badge.svg\" alt=\"Open In Colab\"/></a>"
   ]
  },
  {
   "cell_type": "markdown",
   "metadata": {},
   "source": [
    "# 針對基金績效做排序"
   ]
  },
  {
   "cell_type": "markdown",
   "metadata": {},
   "source": [
    "## 相關連結\n",
    "\n",
    "* [中華民股證券投資信託暨顧問商業同業公會](https://www.sitca.org.tw/)\n",
    "* [基金類別績效（ 晨星 ）](https://www.sitca.org.tw/ROC/Industry/IN2421.aspx)\n",
    "* [基金績效評比（ 晨星 ）](https://www.sitca.org.tw/ROC/Industry/IN2422.aspx)\n",
    "* [https://github.com/dong945/Python-Crawler](https://github.com/dong945/Python-Crawler)"
   ]
  },
  {
   "cell_type": "markdown",
   "metadata": {},
   "source": [
    "---"
   ]
  },
  {
   "cell_type": "code",
   "execution_count": null,
   "metadata": {},
   "outputs": [],
   "source": [
    "import pandas as pd"
   ]
  },
  {
   "cell_type": "markdown",
   "metadata": {},
   "source": [
    "## 讀取同一類別基金績效"
   ]
  },
  {
   "cell_type": "code",
   "execution_count": null,
   "metadata": {},
   "outputs": [],
   "source": [
    "FundUrl = 'https://www.sitca.org.tw/ROC/Industry/IN2422.aspx?txtYEAR=2019&txtMONTH=09&txtGROUPID=EUCA000500'\n",
    "dfs = pd.read_html(FundUrl, encoding='utf8',skiprows=2)\n",
    "# 刪掉最左邊的 checkbox 那一欄\n",
    "df = dfs[3].drop(0, axis=1)\n",
    "df.columns = ['基金名稱','基金英文名稱','1個月','3個月','6個月','1年','2年','3年','5年','今年以來','十年','年化標準差(三年)','Sharpe(三年)']"
   ]
  },
  {
   "cell_type": "code",
   "execution_count": null,
   "metadata": {},
   "outputs": [],
   "source": [
    "df.head()"
   ]
  },
  {
   "cell_type": "markdown",
   "metadata": {},
   "source": [
    "---"
   ]
  },
  {
   "cell_type": "markdown",
   "metadata": {},
   "source": [
    "## 針對基金績效做排序"
   ]
  },
  {
   "cell_type": "code",
   "execution_count": null,
   "metadata": {},
   "outputs": [],
   "source": [
    "df.sort_values(\"3個月\", ascending=False).head()"
   ]
  },
  {
   "cell_type": "markdown",
   "metadata": {},
   "source": [
    "---"
   ]
  },
  {
   "cell_type": "markdown",
   "metadata": {},
   "source": [
    "## 挑選績效前 1/4 基金"
   ]
  },
  {
   "cell_type": "code",
   "execution_count": null,
   "metadata": {},
   "outputs": [],
   "source": [
    "total = len(df)\n",
    "total"
   ]
  },
  {
   "cell_type": "code",
   "execution_count": null,
   "metadata": {},
   "outputs": [],
   "source": [
    "# 三個月績效排名前 1/4 的基金\n",
    "df.sort_values(\"3個月\", ascending=False).head(total//4)"
   ]
  }
 ],
 "metadata": {
  "kernelspec": {
   "display_name": "Python 3",
   "language": "python",
   "name": "python3"
  },
  "language_info": {
   "codemirror_mode": {
    "name": "ipython",
    "version": 3
   },
   "file_extension": ".py",
   "mimetype": "text/x-python",
   "name": "python",
   "nbconvert_exporter": "python",
   "pygments_lexer": "ipython3",
   "version": "3.7.1"
  }
 },
 "nbformat": 4,
 "nbformat_minor": 2
}
